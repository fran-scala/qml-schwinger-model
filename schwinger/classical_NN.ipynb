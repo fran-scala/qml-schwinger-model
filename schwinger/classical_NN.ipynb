{
  "cells": [
    {
      "cell_type": "markdown",
      "metadata": {
        "colab_type": "text",
        "id": "view-in-github"
      },
      "source": [
        "<a href=\"https://colab.research.google.com/github/fran-scala/qml-schwinger-model/blob/main/classical_NN.ipynb\" target=\"_parent\"><img src=\"https://colab.research.google.com/assets/colab-badge.svg\" alt=\"Open In Colab\"/></a>"
      ]
    },
    {
      "cell_type": "markdown",
      "metadata": {
        "id": "E7-jCYH5cv9r"
      },
      "source": [
        "# Classical NN\n",
        "\n",
        "Classical NN training to check if there is overfitting also employing classical ML"
      ]
    },
    {
      "cell_type": "code",
      "execution_count": 53,
      "metadata": {
        "id": "uyjAhvuacv9x"
      },
      "outputs": [],
      "source": [
        "import numpy as np\n",
        "from sklearn.model_selection import train_test_split\n",
        "from sklearn.metrics import mean_squared_error\n",
        "from sklearn.linear_model import LinearRegression\n",
        "from sklearn.preprocessing import MinMaxScaler\n",
        "from sklearn.metrics import roc_curve, auc, accuracy_score\n",
        "\n",
        "import matplotlib.pyplot as plt\n",
        "import seaborn as sns\n",
        "\n",
        "%matplotlib inline\n",
        "sns.set()"
      ]
    },
    {
      "cell_type": "markdown",
      "metadata": {
        "id": "c28iwhSwcv9y"
      },
      "source": [
        "## Dataset Creation\n",
        "\n",
        "Generation of the dataset containing the Schwinger lattices. `dataset_generator.py` contains the functions to both create a lattice, `generator`, and to calculate the Delta value, `Deltal_calculation`. See `dataset_generator.py` to visit the functions. Finally the dataset is divided into a train and test dataset."
      ]
    },
    {
      "cell_type": "code",
      "execution_count": 54,
      "metadata": {
        "colab": {
          "base_uri": "https://localhost:8080/"
        },
        "id": "w4Zf-MPicv9y",
        "outputId": "526d81a5-7cb1-4e2c-adfd-72a8d51a0242"
      },
      "outputs": [
        {
          "name": "stdout",
          "output_type": "stream",
          "text": [
            "24 45\n"
          ]
        }
      ],
      "source": [
        "symmetry = True\n",
        "n_qubits = 8\n",
        "threshold = 2\n",
        "\n",
        "from dataset_generator import *\n",
        "\n",
        "X = []\n",
        "Y = []\n",
        "np.random.seed(1234)\n",
        "for i in range(10000):\n",
        "    v = list(generator(int(n_qubits/2),int(i%4)))\n",
        "    if v in X:\n",
        "        pass\n",
        "    else:\n",
        "        v = [int(v[j]) for j in range(len(v))]\n",
        "        X.append(v)\n",
        "        if Deltal_calculation(v)<threshold:\n",
        "            Y.append(1)\n",
        "        else:\n",
        "            Y.append(0)\n",
        "print(Y.count(0),Y.count(1))"
      ]
    },
    {
      "cell_type": "code",
      "execution_count": 55,
      "metadata": {
        "colab": {
          "base_uri": "https://localhost:8080/"
        },
        "id": "Jt12IyXMcv9z",
        "outputId": "8b83b4d0-db27-4076-d0f7-396593f04127"
      },
      "outputs": [
        {
          "name": "stdout",
          "output_type": "stream",
          "text": [
            "[1 0 0 1 0 0 1 1] 1\n",
            "[0 0 1 1 1 1 1 1] 1\n",
            "[0 1 0 0 1 0 0 0] 1\n",
            "[0 0 1 1 1 0 0 1] 1\n",
            "[1 1 1 1 0 1 1 0] 0\n",
            "\n"
          ]
        }
      ],
      "source": [
        "np.random.seed(1234)\n",
        "shuffle_indices = np.random.permutation(len(X))\n",
        "train_size = int(len(X)*0.7)\n",
        "\n",
        "train_indices = np.array(shuffle_indices[:train_size])\n",
        "test_indices = np.array(shuffle_indices[train_size:])\n",
        "\n",
        "x_train, y_train = np.take(X, train_indices, axis=0), np.take(Y, train_indices, axis=0)\n",
        "x_test, y_test = np.take(X, test_indices, axis=0), np.take(Y, test_indices, axis=0)\n",
        "\n",
        "x_train = np.array(x_train)\n",
        "x_test = np.array(x_test)\n",
        "\n",
        "for x,y in zip(x_train[:5, :], y_train[:5]):\n",
        "    print(x,y)\n",
        "\n",
        "print()"
      ]
    },
    {
      "cell_type": "markdown",
      "metadata": {
        "id": "KjS1fmGLcv90"
      },
      "source": [
        "## Classical Model"
      ]
    },
    {
      "cell_type": "code",
      "execution_count": 56,
      "metadata": {
        "id": "8m5PzzwYcv90"
      },
      "outputs": [],
      "source": [
        "from tensorflow.keras.models import Model\n",
        "from tensorflow.keras.layers import Dense, Input, Dropout, Flatten, Activation\n",
        "from tensorflow.keras.utils import plot_model, set_random_seed\n",
        "from tensorflow.keras import backend as K\n",
        "from tensorflow.keras import metrics\n",
        "from tensorflow.keras.callbacks import EarlyStopping, ReduceLROnPlateau, TerminateOnNaN"
      ]
    },
    {
      "cell_type": "code",
      "execution_count": 58,
      "metadata": {
        "id": "Nuc5dEbecv91"
      },
      "outputs": [],
      "source": [
        "set_random_seed(111)\n",
        "\n",
        "input_shape = 8\n",
        "dropoutRate = 0. \n",
        "\n",
        "inputArray = Input(shape=(input_shape,))\n",
        "x = Dense(64, activation='relu')(inputArray)\n",
        "x = Dropout(dropoutRate)(x)\n",
        "x = Dense(40, activation='relu')(x)\n",
        "x = Dense(20)(x)\n",
        "x = Activation('relu')(x)\n",
        "x = Dense(10, activation='relu')(x)\n",
        "x = Dropout(dropoutRate)(x)\n",
        "x = Dense(5, activation='relu')(x)\n",
        "x = Dropout(dropoutRate)(x)\n",
        "output = Dense(1, activation='sigmoid')(x)#'softmax'\n",
        "\n",
        "model = Model(inputs=inputArray, outputs=output)"
      ]
    },
    {
      "cell_type": "code",
      "execution_count": 59,
      "metadata": {
        "colab": {
          "base_uri": "https://localhost:8080/"
        },
        "id": "uDD02VnxdZ82",
        "outputId": "4d5f2afd-d6c5-45b5-b1ef-5b865bb1c3a9"
      },
      "outputs": [
        {
          "name": "stdout",
          "output_type": "stream",
          "text": [
            "Model: \"model_6\"\n",
            "_________________________________________________________________\n",
            " Layer (type)                Output Shape              Param #   \n",
            "=================================================================\n",
            " input_7 (InputLayer)        [(None, 8)]               0         \n",
            "                                                                 \n",
            " dense_36 (Dense)            (None, 64)                576       \n",
            "                                                                 \n",
            " dropout_20 (Dropout)        (None, 64)                0         \n",
            "                                                                 \n",
            " dense_37 (Dense)            (None, 40)                2600      \n",
            "                                                                 \n",
            " dense_38 (Dense)            (None, 20)                820       \n",
            "                                                                 \n",
            " activation_6 (Activation)   (None, 20)                0         \n",
            "                                                                 \n",
            " dense_39 (Dense)            (None, 10)                210       \n",
            "                                                                 \n",
            " dropout_21 (Dropout)        (None, 10)                0         \n",
            "                                                                 \n",
            " dense_40 (Dense)            (None, 5)                 55        \n",
            "                                                                 \n",
            " dropout_22 (Dropout)        (None, 5)                 0         \n",
            "                                                                 \n",
            " dense_41 (Dense)            (None, 1)                 6         \n",
            "                                                                 \n",
            "=================================================================\n",
            "Total params: 4,267\n",
            "Trainable params: 4,267\n",
            "Non-trainable params: 0\n",
            "_________________________________________________________________\n"
          ]
        }
      ],
      "source": [
        "model.compile(loss='binary_crossentropy', optimizer='adam')\n",
        "model.summary()"
      ]
    },
    {
      "cell_type": "markdown",
      "metadata": {},
      "source": [
        "# Training"
      ]
    },
    {
      "cell_type": "code",
      "execution_count": 60,
      "metadata": {
        "colab": {
          "base_uri": "https://localhost:8080/"
        },
        "id": "gyAicqbIdaB0",
        "outputId": "cbb37acd-3f09-443d-afae-cd17d5fa37ed"
      },
      "outputs": [
        {
          "name": "stdout",
          "output_type": "stream",
          "text": [
            "Epoch 1/100\n",
            "1/1 - 6s - loss: 0.6943 - val_loss: 0.7008 - 6s/epoch - 6s/step\n",
            "Epoch 2/100\n",
            "1/1 - 0s - loss: 0.6903 - val_loss: 0.6999 - 38ms/epoch - 38ms/step\n",
            "Epoch 3/100\n",
            "1/1 - 0s - loss: 0.6866 - val_loss: 0.6985 - 38ms/epoch - 38ms/step\n",
            "Epoch 4/100\n",
            "1/1 - 0s - loss: 0.6829 - val_loss: 0.6964 - 37ms/epoch - 37ms/step\n",
            "Epoch 5/100\n",
            "1/1 - 0s - loss: 0.6791 - val_loss: 0.6949 - 39ms/epoch - 39ms/step\n",
            "Epoch 6/100\n",
            "1/1 - 0s - loss: 0.6755 - val_loss: 0.6932 - 39ms/epoch - 39ms/step\n",
            "Epoch 7/100\n",
            "1/1 - 0s - loss: 0.6725 - val_loss: 0.6918 - 43ms/epoch - 43ms/step\n",
            "Epoch 8/100\n",
            "1/1 - 0s - loss: 0.6695 - val_loss: 0.6909 - 36ms/epoch - 36ms/step\n",
            "Epoch 9/100\n",
            "1/1 - 0s - loss: 0.6668 - val_loss: 0.6900 - 60ms/epoch - 60ms/step\n",
            "Epoch 10/100\n",
            "1/1 - 0s - loss: 0.6640 - val_loss: 0.6896 - 41ms/epoch - 41ms/step\n",
            "Epoch 11/100\n",
            "1/1 - 0s - loss: 0.6610 - val_loss: 0.6896 - 40ms/epoch - 40ms/step\n",
            "Epoch 12/100\n",
            "1/1 - 0s - loss: 0.6578 - val_loss: 0.6898 - 46ms/epoch - 46ms/step\n",
            "Epoch 13/100\n",
            "1/1 - 0s - loss: 0.6547 - val_loss: 0.6898 - 59ms/epoch - 59ms/step\n",
            "Epoch 14/100\n",
            "1/1 - 0s - loss: 0.6515 - val_loss: 0.6895 - 41ms/epoch - 41ms/step\n",
            "Epoch 15/100\n",
            "1/1 - 0s - loss: 0.6483 - val_loss: 0.6893 - 40ms/epoch - 40ms/step\n",
            "Epoch 16/100\n",
            "1/1 - 0s - loss: 0.6450 - val_loss: 0.6893 - 45ms/epoch - 45ms/step\n",
            "Epoch 17/100\n",
            "1/1 - 0s - loss: 0.6417 - val_loss: 0.6893 - 37ms/epoch - 37ms/step\n",
            "Epoch 18/100\n",
            "1/1 - 0s - loss: 0.6385 - val_loss: 0.6894 - 38ms/epoch - 38ms/step\n",
            "Epoch 19/100\n",
            "1/1 - 0s - loss: 0.6353 - val_loss: 0.6896 - 38ms/epoch - 38ms/step\n",
            "Epoch 20/100\n",
            "1/1 - 0s - loss: 0.6317 - val_loss: 0.6894 - 42ms/epoch - 42ms/step\n",
            "Epoch 21/100\n",
            "1/1 - 0s - loss: 0.6280 - val_loss: 0.6891 - 46ms/epoch - 46ms/step\n",
            "Epoch 22/100\n",
            "1/1 - 0s - loss: 0.6243 - val_loss: 0.6882 - 39ms/epoch - 39ms/step\n",
            "Epoch 23/100\n",
            "1/1 - 0s - loss: 0.6204 - val_loss: 0.6869 - 39ms/epoch - 39ms/step\n",
            "Epoch 24/100\n",
            "1/1 - 0s - loss: 0.6163 - val_loss: 0.6857 - 43ms/epoch - 43ms/step\n",
            "Epoch 25/100\n",
            "1/1 - 0s - loss: 0.6120 - val_loss: 0.6847 - 40ms/epoch - 40ms/step\n",
            "Epoch 26/100\n",
            "1/1 - 0s - loss: 0.6074 - val_loss: 0.6835 - 42ms/epoch - 42ms/step\n",
            "Epoch 27/100\n",
            "1/1 - 0s - loss: 0.6028 - val_loss: 0.6821 - 40ms/epoch - 40ms/step\n",
            "Epoch 28/100\n",
            "1/1 - 0s - loss: 0.5980 - val_loss: 0.6802 - 44ms/epoch - 44ms/step\n",
            "Epoch 29/100\n",
            "1/1 - 0s - loss: 0.5931 - val_loss: 0.6780 - 36ms/epoch - 36ms/step\n",
            "Epoch 30/100\n",
            "1/1 - 0s - loss: 0.5880 - val_loss: 0.6765 - 38ms/epoch - 38ms/step\n",
            "Epoch 31/100\n",
            "1/1 - 0s - loss: 0.5828 - val_loss: 0.6760 - 38ms/epoch - 38ms/step\n",
            "Epoch 32/100\n",
            "1/1 - 0s - loss: 0.5773 - val_loss: 0.6755 - 45ms/epoch - 45ms/step\n",
            "Epoch 33/100\n",
            "1/1 - 0s - loss: 0.5717 - val_loss: 0.6742 - 46ms/epoch - 46ms/step\n",
            "Epoch 34/100\n",
            "1/1 - 0s - loss: 0.5658 - val_loss: 0.6722 - 50ms/epoch - 50ms/step\n",
            "Epoch 35/100\n",
            "1/1 - 0s - loss: 0.5596 - val_loss: 0.6712 - 43ms/epoch - 43ms/step\n",
            "Epoch 36/100\n",
            "1/1 - 0s - loss: 0.5532 - val_loss: 0.6704 - 41ms/epoch - 41ms/step\n",
            "Epoch 37/100\n",
            "1/1 - 0s - loss: 0.5466 - val_loss: 0.6695 - 36ms/epoch - 36ms/step\n",
            "Epoch 38/100\n",
            "1/1 - 0s - loss: 0.5397 - val_loss: 0.6682 - 34ms/epoch - 34ms/step\n",
            "Epoch 39/100\n",
            "1/1 - 0s - loss: 0.5327 - val_loss: 0.6661 - 35ms/epoch - 35ms/step\n",
            "Epoch 40/100\n",
            "1/1 - 0s - loss: 0.5255 - val_loss: 0.6648 - 34ms/epoch - 34ms/step\n",
            "Epoch 41/100\n",
            "1/1 - 0s - loss: 0.5181 - val_loss: 0.6646 - 40ms/epoch - 40ms/step\n",
            "Epoch 42/100\n",
            "1/1 - 0s - loss: 0.5106 - val_loss: 0.6647 - 36ms/epoch - 36ms/step\n",
            "Epoch 43/100\n",
            "1/1 - 0s - loss: 0.5029 - val_loss: 0.6634 - 34ms/epoch - 34ms/step\n",
            "Epoch 44/100\n",
            "1/1 - 0s - loss: 0.4946 - val_loss: 0.6618 - 33ms/epoch - 33ms/step\n",
            "Epoch 45/100\n",
            "1/1 - 0s - loss: 0.4860 - val_loss: 0.6612 - 33ms/epoch - 33ms/step\n",
            "Epoch 46/100\n",
            "1/1 - 0s - loss: 0.4773 - val_loss: 0.6616 - 32ms/epoch - 32ms/step\n",
            "Epoch 47/100\n",
            "1/1 - 0s - loss: 0.4684 - val_loss: 0.6609 - 35ms/epoch - 35ms/step\n",
            "Epoch 48/100\n",
            "1/1 - 0s - loss: 0.4594 - val_loss: 0.6590 - 35ms/epoch - 35ms/step\n",
            "Epoch 49/100\n",
            "1/1 - 0s - loss: 0.4501 - val_loss: 0.6579 - 39ms/epoch - 39ms/step\n",
            "Epoch 50/100\n",
            "1/1 - 0s - loss: 0.4405 - val_loss: 0.6571 - 35ms/epoch - 35ms/step\n",
            "Epoch 51/100\n",
            "1/1 - 0s - loss: 0.4307 - val_loss: 0.6549 - 33ms/epoch - 33ms/step\n",
            "Epoch 52/100\n",
            "1/1 - 0s - loss: 0.4207 - val_loss: 0.6540 - 32ms/epoch - 32ms/step\n",
            "Epoch 53/100\n",
            "1/1 - 0s - loss: 0.4105 - val_loss: 0.6510 - 33ms/epoch - 33ms/step\n",
            "Epoch 54/100\n",
            "1/1 - 0s - loss: 0.4000 - val_loss: 0.6498 - 33ms/epoch - 33ms/step\n",
            "Epoch 55/100\n",
            "1/1 - 0s - loss: 0.3895 - val_loss: 0.6470 - 39ms/epoch - 39ms/step\n",
            "Epoch 56/100\n",
            "1/1 - 0s - loss: 0.3787 - val_loss: 0.6465 - 34ms/epoch - 34ms/step\n",
            "Epoch 57/100\n",
            "1/1 - 0s - loss: 0.3677 - val_loss: 0.6454 - 36ms/epoch - 36ms/step\n",
            "Epoch 58/100\n",
            "1/1 - 0s - loss: 0.3566 - val_loss: 0.6417 - 41ms/epoch - 41ms/step\n",
            "Epoch 59/100\n",
            "1/1 - 0s - loss: 0.3453 - val_loss: 0.6406 - 35ms/epoch - 35ms/step\n",
            "Epoch 60/100\n",
            "1/1 - 0s - loss: 0.3338 - val_loss: 0.6401 - 40ms/epoch - 40ms/step\n",
            "Epoch 61/100\n",
            "1/1 - 0s - loss: 0.3221 - val_loss: 0.6338 - 50ms/epoch - 50ms/step\n",
            "Epoch 62/100\n",
            "1/1 - 0s - loss: 0.3103 - val_loss: 0.6293 - 40ms/epoch - 40ms/step\n",
            "Epoch 63/100\n",
            "1/1 - 0s - loss: 0.2985 - val_loss: 0.6285 - 39ms/epoch - 39ms/step\n",
            "Epoch 64/100\n",
            "1/1 - 0s - loss: 0.2867 - val_loss: 0.6260 - 36ms/epoch - 36ms/step\n",
            "Epoch 65/100\n",
            "1/1 - 0s - loss: 0.2749 - val_loss: 0.6198 - 39ms/epoch - 39ms/step\n",
            "Epoch 66/100\n",
            "1/1 - 0s - loss: 0.2630 - val_loss: 0.6150 - 63ms/epoch - 63ms/step\n",
            "Epoch 67/100\n",
            "1/1 - 0s - loss: 0.2513 - val_loss: 0.6127 - 39ms/epoch - 39ms/step\n",
            "Epoch 68/100\n",
            "1/1 - 0s - loss: 0.2397 - val_loss: 0.6133 - 39ms/epoch - 39ms/step\n",
            "Epoch 69/100\n",
            "1/1 - 0s - loss: 0.2282 - val_loss: 0.6120 - 59ms/epoch - 59ms/step\n",
            "Epoch 70/100\n",
            "1/1 - 0s - loss: 0.2170 - val_loss: 0.6072 - 41ms/epoch - 41ms/step\n",
            "Epoch 71/100\n",
            "1/1 - 0s - loss: 0.2059 - val_loss: 0.6039 - 43ms/epoch - 43ms/step\n",
            "Epoch 72/100\n",
            "1/1 - 0s - loss: 0.1951 - val_loss: 0.6037 - 44ms/epoch - 44ms/step\n",
            "Epoch 73/100\n",
            "1/1 - 0s - loss: 0.1844 - val_loss: 0.6052 - 42ms/epoch - 42ms/step\n",
            "Epoch 74/100\n",
            "1/1 - 0s - loss: 0.1740 - val_loss: 0.6081 - 37ms/epoch - 37ms/step\n",
            "Epoch 75/100\n",
            "1/1 - 0s - loss: 0.1641 - val_loss: 0.6098 - 42ms/epoch - 42ms/step\n",
            "Epoch 76/100\n",
            "1/1 - 0s - loss: 0.1543 - val_loss: 0.6105 - 42ms/epoch - 42ms/step\n",
            "Epoch 77/100\n",
            "1/1 - 0s - loss: 0.1447 - val_loss: 0.6112 - 53ms/epoch - 53ms/step\n",
            "Epoch 78/100\n",
            "1/1 - 0s - loss: 0.1356 - val_loss: 0.6132 - 40ms/epoch - 40ms/step\n",
            "Epoch 79/100\n",
            "1/1 - 0s - loss: 0.1267 - val_loss: 0.6164 - 45ms/epoch - 45ms/step\n",
            "Epoch 80/100\n",
            "1/1 - 0s - loss: 0.1183 - val_loss: 0.6200 - 41ms/epoch - 41ms/step\n",
            "Epoch 81/100\n",
            "1/1 - 0s - loss: 0.1103 - val_loss: 0.6236 - 53ms/epoch - 53ms/step\n",
            "Epoch 82/100\n",
            "1/1 - 0s - loss: 0.1028 - val_loss: 0.6282 - 43ms/epoch - 43ms/step\n",
            "Epoch 83/100\n",
            "1/1 - 0s - loss: 0.0955 - val_loss: 0.6359 - 38ms/epoch - 38ms/step\n",
            "Epoch 84/100\n",
            "1/1 - 0s - loss: 0.0887 - val_loss: 0.6454 - 42ms/epoch - 42ms/step\n",
            "Epoch 85/100\n",
            "1/1 - 0s - loss: 0.0822 - val_loss: 0.6540 - 51ms/epoch - 51ms/step\n",
            "Epoch 86/100\n",
            "1/1 - 0s - loss: 0.0761 - val_loss: 0.6579 - 57ms/epoch - 57ms/step\n",
            "Epoch 87/100\n",
            "1/1 - 0s - loss: 0.0703 - val_loss: 0.6630 - 38ms/epoch - 38ms/step\n",
            "Epoch 88/100\n",
            "1/1 - 0s - loss: 0.0651 - val_loss: 0.6707 - 39ms/epoch - 39ms/step\n",
            "Epoch 89/100\n",
            "1/1 - 0s - loss: 0.0602 - val_loss: 0.6805 - 59ms/epoch - 59ms/step\n",
            "Epoch 90/100\n",
            "1/1 - 0s - loss: 0.0557 - val_loss: 0.6900 - 43ms/epoch - 43ms/step\n",
            "Epoch 91/100\n",
            "1/1 - 0s - loss: 0.0515 - val_loss: 0.6985 - 50ms/epoch - 50ms/step\n",
            "Epoch 92/100\n",
            "1/1 - 0s - loss: 0.0477 - val_loss: 0.7069 - 42ms/epoch - 42ms/step\n",
            "Epoch 93/100\n",
            "1/1 - 0s - loss: 0.0442 - val_loss: 0.7155 - 39ms/epoch - 39ms/step\n",
            "Epoch 94/100\n",
            "1/1 - 0s - loss: 0.0408 - val_loss: 0.7246 - 42ms/epoch - 42ms/step\n",
            "Epoch 95/100\n",
            "1/1 - 0s - loss: 0.0378 - val_loss: 0.7345 - 44ms/epoch - 44ms/step\n",
            "Epoch 96/100\n",
            "1/1 - 0s - loss: 0.0349 - val_loss: 0.7453 - 38ms/epoch - 38ms/step\n",
            "Epoch 97/100\n",
            "1/1 - 0s - loss: 0.0323 - val_loss: 0.7552 - 43ms/epoch - 43ms/step\n",
            "Epoch 98/100\n",
            "1/1 - 0s - loss: 0.0299 - val_loss: 0.7639 - 44ms/epoch - 44ms/step\n",
            "Epoch 99/100\n",
            "1/1 - 0s - loss: 0.0278 - val_loss: 0.7736 - 43ms/epoch - 43ms/step\n",
            "Epoch 100/100\n",
            "1/1 - 0s - loss: 0.0258 - val_loss: 0.7837 - 39ms/epoch - 39ms/step\n"
          ]
        }
      ],
      "source": [
        "batch_size = x_train.shape[0]\n",
        "n_epochs = 100\n",
        "\n",
        "history = model.fit(x_train, y_train, epochs=n_epochs, batch_size=batch_size, verbose = 2,\n",
        "                validation_data=(x_test, y_test),)"
      ]
    },
    {
      "cell_type": "markdown",
      "metadata": {},
      "source": [
        "# Plots"
      ]
    },
    {
      "cell_type": "code",
      "execution_count": 61,
      "metadata": {
        "colab": {
          "base_uri": "https://localhost:8080/",
          "height": 480
        },
        "id": "Dk1i2gfMdaKX",
        "outputId": "fe4ae754-78c0-4ed5-d710-6302d905f9fa"
      },
      "outputs": [
        {
          "data": {
            "image/png": "[encoded data removed]",
            "text/plain": [
              "<Figure size 640x480 with 1 Axes>"
            ]
          },
          "metadata": {},
          "output_type": "display_data"
        }
      ],
      "source": [
        "plt.plot(history.history['loss'])\n",
        "plt.plot(history.history['val_loss'])\n",
        "plt.title('Training History')\n",
        "plt.ylabel('loss')\n",
        "plt.xlabel('epoch')\n",
        "plt.legend(['training', 'test'], loc='upper right')\n",
        "plt.show()"
      ]
    },
    {
      "cell_type": "code",
      "execution_count": 62,
      "metadata": {
        "colab": {
          "base_uri": "https://localhost:8080/",
          "height": 585
        },
        "id": "7Tkn9vsSekqj",
        "outputId": "26ef1de9-5472-488a-9188-0622439a3575"
      },
      "outputs": [
        {
          "name": "stderr",
          "output_type": "stream",
          "text": [
            "WARNING:tensorflow:5 out of the last 13 calls to <function Model.make_predict_function.<locals>.predict_function at 0x7ff66f850820> triggered tf.function retracing. Tracing is expensive and the excessive number of tracings could be due to (1) creating @tf.function repeatedly in a loop, (2) passing tensors with different shapes, (3) passing Python objects instead of tensors. For (1), please define your @tf.function outside of the loop. For (2), @tf.function has reduce_retracing=True option that can avoid unnecessary retracing. For (3), please refer to https://www.tensorflow.org/guide/function#controlling_retracing and https://www.tensorflow.org/api_docs/python/tf/function for  more details.\n"
          ]
        },
        {
          "name": "stdout",
          "output_type": "stream",
          "text": [
            "2/2 [==============================] - 0s 7ms/step\n",
            "[1.9927733  0.9927733  0.937223   0.00230888]\n",
            "1/1 [==============================] - 0s 27ms/step\n",
            "[1.993979   0.99397904 0.845938   0.7787084  0.08304915 0.0114921 ]\n"
          ]
        },
        {
          "data": {
            "text/plain": [
              "<matplotlib.legend.Legend at 0x7ff66fded900>"
            ]
          },
          "execution_count": 62,
          "metadata": {},
          "output_type": "execute_result"
        },
        {
          "data": {
            "image/png": "[encoded data removed]",
            "text/plain": [
              "<Figure size 640x480 with 1 Axes>"
            ]
          },
          "metadata": {},
          "output_type": "display_data"
        }
      ],
      "source": [
        "predict_train = model.predict(x_train)\n",
        "\n",
        "fpr1, tpr1, threshold = roc_curve(y_train, predict_train)\n",
        "print(threshold)\n",
        "\n",
        "predict_test = model.predict(x_test)\n",
        "\n",
        "fpr2, tpr2, threshold = roc_curve(y_test, predict_test)\n",
        "print(threshold)\n",
        "auc_ =  auc(fpr1, tpr1)\n",
        "plt.plot(fpr1,tpr1,label=f'train: {auc_}')\n",
        "auc_ =  auc(fpr2, tpr2)\n",
        "plt.plot(fpr2,tpr2,label=f'test: {auc_}')\n",
        "plt.ylabel('TPR')\n",
        "plt.xlabel('FPR')\n",
        "plt.legend()"
      ]
    }
  ],
  "metadata": {
    "colab": {
      "include_colab_link": true,
      "provenance": []
    },
    "kernelspec": {
      "display_name": "py38",
      "language": "python",
      "name": "python3"
    },
    "language_info": {
      "codemirror_mode": {
        "name": "ipython",
        "version": 3
      },
      "file_extension": ".py",
      "mimetype": "text/x-python",
      "name": "python",
      "nbconvert_exporter": "python",
      "pygments_lexer": "ipython3",
      "version": "3.8.12"
    },
    "orig_nbformat": 4
  },
  "nbformat": 4,
  "nbformat_minor": 0
}
