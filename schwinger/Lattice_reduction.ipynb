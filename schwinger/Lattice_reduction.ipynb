{
 "cells": [
  {
   "attachments": {},
   "cell_type": "markdown",
   "metadata": {},
   "source": []
  },
  {
   "cell_type": "code",
   "execution_count": 1,
   "metadata": {},
   "outputs": [],
   "source": [
    "from qiskit import *\n",
    "from qiskit import IBMQ, Aer\n",
    "\n",
    "from qiskit.circuit import ParameterVector\n",
    "from qiskit.visualization.bloch import Bloch\n",
    "from qiskit.algorithms.optimizers import SPSA\n",
    "from qiskit.tools.monitor import job_monitor\n",
    "from qiskit.circuit import Gate\n",
    "from qiskit.circuit import Parameter\n",
    "from qiskit.quantum_info import Statevector\n",
    "from qiskit.tools.visualization import plot_histogram\n",
    "from scipy.optimize import curve_fit\n",
    "from scipy.sparse import csr_matrix\n",
    "from scipy.sparse.linalg import eigs\n",
    "import matplotlib.pyplot as plt\n",
    "import numpy as np\n",
    "from numpy import linalg as LA #linear algebra\n",
    "from copy import deepcopy\n",
    "import math\n",
    "import time"
   ]
  },
  {
   "cell_type": "code",
   "execution_count": 2,
   "metadata": {},
   "outputs": [
    {
     "ename": "SyntaxError",
     "evalue": "'return' outside function (226686677.py, line 88)",
     "output_type": "error",
     "traceback": [
      "\u001b[0;36m  Input \u001b[0;32mIn [2]\u001b[0;36m\u001b[0m\n\u001b[0;31m    return W\u001b[0m\n\u001b[0m    ^\u001b[0m\n\u001b[0;31mSyntaxError\u001b[0m\u001b[0;31m:\u001b[0m 'return' outside function\n"
     ]
    }
   ],
   "source": [
    "def Reduction(v):\n",
    "\n",
    "    #PRINCIPAL VARIABLES DEFINITION\n",
    "    V = []\n",
    "    W = []\n",
    "    v_new = []\n",
    "\n",
    "    #AUXILIARY VARIABLES\n",
    "    n = len(v)\n",
    "    zeros_counter = 0\n",
    "    ones_counter = 0\n",
    "\n",
    "    #v TRANSLATION\n",
    "    i = 0\n",
    "    for i in range(0,n):\n",
    "        if v[i] != 1:\n",
    "            break\n",
    "        i = i+1\n",
    "\n",
    "    if i == n:\n",
    "        print('THE VECTOR v IS NULL!')\n",
    "    else:\n",
    "        for j in range(0, n): \n",
    "            v_new.append(v[(j+i)%n])\n",
    "\n",
    "    v = v_new\n",
    "\n",
    "    \n",
    "    #ZEROES REDUCTION\n",
    "\n",
    "    for i in range(0, n):\n",
    "        if v[i] == 0:\n",
    "            zeros_counter = zeros_counter + 1 \n",
    "        else:\n",
    "            if zeros_counter % 2 == 0:\n",
    "                V.append(1)\n",
    "            else:\n",
    "                V.append(0)\n",
    "                V.append(1)\n",
    "            zeros_counter = 0\n",
    "\n",
    "    if zeros_counter % 2 == 1:\n",
    "        V.append(0)\n",
    "\n",
    "    #V TRANSLATION\n",
    "    N = len(V)\n",
    "    v_new = []\n",
    "    k = 0\n",
    "\n",
    "    print(len(V))\n",
    "\n",
    "    for k in range(len(V)):\n",
    "        if V[k] != 0:\n",
    "            break\n",
    "        k = k+1\n",
    "\n",
    "    if k == N:\n",
    "        print('THE VECTOR V IS COMPLETELY FILLED!')\n",
    "    else:\n",
    "        for j in range(0, N): \n",
    "            v_new.append(V[(j+i)%N])\n",
    "\n",
    "    V = v_new\n",
    "    #ONES REDUCTION\n",
    "\n",
    "\n",
    "    for i in range(0, N):\n",
    "        if V[i] == 1:\n",
    "            ones_counter = ones_counter + 1 \n",
    "        else:\n",
    "            if ones_counter % 2 == 0:\n",
    "                if ones_counter != 0:\n",
    "                    W.append(1)\n",
    "                    W.append(1)\n",
    "                W.append(0)\n",
    "            else:\n",
    "                W.append(1)\n",
    "                W.append(0)\n",
    "            ones_counter = 0\n",
    "\n",
    "    if ones_counter != 0:\n",
    "        if ones_counter % 2 == 0:\n",
    "            W.append(1)\n",
    "            W.append(1)\n",
    "        else:\n",
    "            W.append(1)\n",
    "\n",
    "    return W"
   ]
  },
  {
   "cell_type": "code",
   "execution_count": null,
   "metadata": {},
   "outputs": [
    {
     "name": "stdout",
     "output_type": "stream",
     "text": [
      "[0, 1, 1, 1, 1, 0, 0, 0, 1, 1]\n"
     ]
    }
   ],
   "source": []
  },
  {
   "cell_type": "code",
   "execution_count": null,
   "metadata": {},
   "outputs": [
    {
     "name": "stdout",
     "output_type": "stream",
     "text": [
      "[0, 1, 1, 1, 1, 0, 1, 1]\n"
     ]
    }
   ],
   "source": []
  },
  {
   "cell_type": "code",
   "execution_count": null,
   "metadata": {},
   "outputs": [
    {
     "name": "stdout",
     "output_type": "stream",
     "text": [
      "8\n",
      "[1, 1, 1, 1, 0, 1, 1, 0]\n"
     ]
    }
   ],
   "source": []
  },
  {
   "cell_type": "code",
   "execution_count": null,
   "metadata": {},
   "outputs": [
    {
     "name": "stdout",
     "output_type": "stream",
     "text": [
      "[1, 1, 0, 1, 1, 0]\n"
     ]
    }
   ],
   "source": []
  },
  {
   "cell_type": "markdown",
   "metadata": {},
   "source": []
  }
 ],
 "metadata": {
  "kernelspec": {
   "display_name": "Python 3.10.4 64-bit ('3.10.4')",
   "language": "python",
   "name": "python3"
  },
  "language_info": {
   "codemirror_mode": {
    "name": "ipython",
    "version": 3
   },
   "file_extension": ".py",
   "mimetype": "text/x-python",
   "name": "python",
   "nbconvert_exporter": "python",
   "pygments_lexer": "ipython3",
   "version": "3.10.4"
  },
  "vscode": {
   "interpreter": {
    "hash": "e2e324a0082756a2262d1c778536e10c10f66255662fcde79f870ca17d1b4625"
   }
  }
 },
 "nbformat": 4,
 "nbformat_minor": 4
}
