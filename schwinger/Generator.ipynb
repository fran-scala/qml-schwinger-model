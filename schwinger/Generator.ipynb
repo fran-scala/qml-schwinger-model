{
 "cells": [
  {
   "cell_type": "code",
   "execution_count": 3,
   "metadata": {},
   "outputs": [],
   "source": [
    "import numpy as np\n",
    "\n",
    "def generatore(n,p):\n",
    "    '''\n",
    "    n - number of fermions/antifermions\n",
    "    p - number of filled sites\n",
    "\n",
    "    Generates a 2n vector with p filled fermions and p filled antifermions\n",
    "    '''\n",
    "\n",
    "    vec = np.zeros(2*n)\n",
    "    #print(vec)\n",
    "\n",
    "    fermions = np.random.choice(range(n),p, replace=False)\n",
    "    #print(fermions)\n",
    "\n",
    "    antifermions = np.random.choice(range(n),p,replace=False)\n",
    "    #print(antifermions)\n",
    "\n",
    "    for i in range(p): \n",
    "        vec[2*fermions[i]]=1\n",
    "        vec[2*antifermions[i]+1]=1\n",
    "    return vec"
   ]
  },
  {
   "cell_type": "code",
   "execution_count": 4,
   "metadata": {},
   "outputs": [
    {
     "name": "stdout",
     "output_type": "stream",
     "text": [
      "[0. 0. 0. 0. 0. 0. 0. 0. 0. 0. 0. 0.]\n",
      "[0. 0. 0. 0. 1. 0. 0. 1. 0. 0. 0. 0.]\n",
      "[1. 0. 0. 1. 0. 0. 0. 0. 1. 1. 0. 0.]\n",
      "[1. 1. 1. 0. 0. 1. 1. 1. 0. 0. 0. 0.]\n",
      "[1. 1. 1. 1. 0. 0. 1. 1. 1. 1. 0. 0.]\n",
      "[0. 1. 1. 0. 1. 1. 1. 1. 1. 1. 1. 1.]\n"
     ]
    }
   ],
   "source": [
    "n = 6\n",
    "\n",
    "for i in range(0,n):\n",
    "    print(generatore(n,i))"
   ]
  }
 ],
 "metadata": {
  "kernelspec": {
   "display_name": "Python 3",
   "language": "python",
   "name": "python3"
  },
  "language_info": {
   "codemirror_mode": {
    "name": "ipython",
    "version": 3
   },
   "file_extension": ".py",
   "mimetype": "text/x-python",
   "name": "python",
   "nbconvert_exporter": "python",
   "pygments_lexer": "ipython3",
   "version": "3.10.4"
  },
  "orig_nbformat": 4
 },
 "nbformat": 4,
 "nbformat_minor": 2
}
