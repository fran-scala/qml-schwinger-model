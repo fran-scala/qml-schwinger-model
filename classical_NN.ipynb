{
  "cells": [
    {
      "cell_type": "markdown",
      "metadata": {
        "id": "view-in-github",
        "colab_type": "text"
      },
      "source": [
        "<a href=\"https://colab.research.google.com/github/fran-scala/qml-schwinger-model/blob/main/classical_NN.ipynb\" target=\"_parent\"><img src=\"https://colab.research.google.com/assets/colab-badge.svg\" alt=\"Open In Colab\"/></a>"
      ]
    },
    {
      "cell_type": "markdown",
      "metadata": {
        "id": "E7-jCYH5cv9r"
      },
      "source": [
        "# Classical NN\n",
        "\n",
        "Classical NN training to check if there is overfitting also employing classical ML"
      ]
    },
    {
      "cell_type": "code",
      "execution_count": 1,
      "metadata": {
        "id": "uyjAhvuacv9x"
      },
      "outputs": [],
      "source": [
        "import numpy as np\n",
        "from sklearn.model_selection import train_test_split\n",
        "from sklearn.metrics import mean_squared_error\n",
        "from sklearn.linear_model import LinearRegression\n",
        "from sklearn.preprocessing import MinMaxScaler\n",
        "from sklearn.metrics import roc_curve, auc, accuracy_score\n",
        "\n",
        "import matplotlib.pyplot as plt\n",
        "import seaborn as sns\n",
        "\n",
        "%matplotlib inline\n",
        "sns.set()"
      ]
    },
    {
      "cell_type": "markdown",
      "metadata": {
        "id": "c28iwhSwcv9y"
      },
      "source": [
        "## Dataset creation"
      ]
    },
    {
      "cell_type": "code",
      "execution_count": 52,
      "metadata": {
        "colab": {
          "base_uri": "https://localhost:8080/"
        },
        "id": "w4Zf-MPicv9y",
        "outputId": "8dcc97b9-6422-4f27-b416-d2ad81aaeb80"
      },
      "outputs": [
        {
          "output_type": "stream",
          "name": "stdout",
          "text": [
            "24 45\n"
          ]
        }
      ],
      "source": [
        "symmetry = True\n",
        "n_qubits = 8\n",
        "threshold = 2\n",
        "\n",
        "from dataset_generator import *\n",
        "\n",
        "# v = generator(int(n_qubits/2),2)\n",
        "# delta_l = Dealtal_calculation(v)\n",
        "\n",
        "X = []\n",
        "Y = []\n",
        "np.random.seed(1234)\n",
        "for i in range(10000):\n",
        "    v = list(generator(int(n_qubits/2),int(i%4)))\n",
        "    if v in X:\n",
        "        pass\n",
        "    else:\n",
        "        v = [int(v[j]) for j in range(len(v))]\n",
        "        X.append(v)\n",
        "        if Dealtal_calculation(v)<threshold:\n",
        "            Y.append(1)\n",
        "        else:\n",
        "            Y.append(0)\n",
        "print(Y.count(0),Y.count(1))"
      ]
    },
    {
      "cell_type": "code",
      "execution_count": 33,
      "metadata": {
        "colab": {
          "base_uri": "https://localhost:8080/"
        },
        "id": "Jt12IyXMcv9z",
        "outputId": "6b11c6a9-4f7e-477d-ccde-c056cc9add4c"
      },
      "outputs": [
        {
          "output_type": "stream",
          "name": "stdout",
          "text": [
            "[1 0 0 1 0 0 1 1] 1\n",
            "[0 0 1 1 1 1 1 1] 1\n",
            "[0 1 0 0 1 0 0 0] 1\n",
            "[0 0 1 1 1 0 0 1] 1\n",
            "[1 1 1 1 0 1 1 0] 0\n",
            "\n"
          ]
        }
      ],
      "source": [
        "np.random.seed(1234)\n",
        "shuffle_indices = np.random.permutation(len(X))\n",
        "train_size = int(len(X)*0.7)\n",
        "\n",
        "train_indices = np.array(shuffle_indices[:train_size])\n",
        "test_indices = np.array(shuffle_indices[train_size:])\n",
        "\n",
        "x_train, y_train = np.take(X, train_indices, axis=0), np.take(Y, train_indices, axis=0)\n",
        "x_test, y_test = np.take(X, test_indices, axis=0), np.take(Y, test_indices, axis=0)\n",
        "\n",
        "x_train = np.array(x_train)\n",
        "x_test = np.array(x_test)\n",
        "\n",
        "for x,y in zip(x_train[:5, :], y_train[:5]):\n",
        "    print(x,y)\n",
        "\n",
        "print()"
      ]
    },
    {
      "cell_type": "markdown",
      "metadata": {
        "id": "KjS1fmGLcv90"
      },
      "source": [
        "## Building the model"
      ]
    },
    {
      "cell_type": "code",
      "execution_count": 34,
      "metadata": {
        "id": "8m5PzzwYcv90"
      },
      "outputs": [],
      "source": [
        "# keras imports\n",
        "from tensorflow.keras.models import Model\n",
        "from tensorflow.keras.layers import Dense, Input, Dropout, Flatten, Activation\n",
        "from tensorflow.keras.utils import plot_model, set_random_seed\n",
        "from tensorflow.keras import backend as K\n",
        "from tensorflow.keras import metrics\n",
        "from tensorflow.keras.callbacks import EarlyStopping, ReduceLROnPlateau, TerminateOnNaN"
      ]
    },
    {
      "cell_type": "code",
      "execution_count": 43,
      "metadata": {
        "id": "Nuc5dEbecv91"
      },
      "outputs": [],
      "source": [
        "set_random_seed(111)\n",
        "\n",
        "input_shape = 8\n",
        "dropoutRate = 0.25 # WITH 0 DROPOUT OVERFITTING IS VERY EVIDENT\n",
        "\n",
        "####\n",
        "inputArray = Input(shape=(input_shape,))\n",
        "#\n",
        "x = Dense(64, activation='relu')(inputArray)\n",
        "x = Dropout(dropoutRate)(x)\n",
        "#\n",
        "x = Dense(40, activation='relu')(x)\n",
        "# x = Dropout(dropoutRate)(x)\n",
        "# #\n",
        "x = Dense(20)(x)\n",
        "x = Activation('relu')(x)\n",
        "# x = Dropout(dropoutRate)(x)\n",
        "#\n",
        "x = Dense(10, activation='relu')(x)\n",
        "x = Dropout(dropoutRate)(x)\n",
        "#\n",
        "x = Dense(5, activation='relu')(x)\n",
        "x = Dropout(dropoutRate)(x)\n",
        "#\n",
        "output = Dense(1, activation='sigmoid')(x)#'softmax'\n",
        "####\n",
        "model = Model(inputs=inputArray, outputs=output)"
      ]
    },
    {
      "cell_type": "code",
      "source": [
        "model.compile(loss='binary_crossentropy', optimizer='adam')\n",
        "model.summary()"
      ],
      "metadata": {
        "colab": {
          "base_uri": "https://localhost:8080/"
        },
        "id": "uDD02VnxdZ82",
        "outputId": "ca92398d-ed89-4cc4-fd30-edfa0b2611ee"
      },
      "execution_count": 44,
      "outputs": [
        {
          "output_type": "stream",
          "name": "stdout",
          "text": [
            "Model: \"model_4\"\n",
            "_________________________________________________________________\n",
            " Layer (type)                Output Shape              Param #   \n",
            "=================================================================\n",
            " input_5 (InputLayer)        [(None, 8)]               0         \n",
            "                                                                 \n",
            " dense_24 (Dense)            (None, 64)                576       \n",
            "                                                                 \n",
            " dropout_14 (Dropout)        (None, 64)                0         \n",
            "                                                                 \n",
            " dense_25 (Dense)            (None, 40)                2600      \n",
            "                                                                 \n",
            " dense_26 (Dense)            (None, 20)                820       \n",
            "                                                                 \n",
            " activation_4 (Activation)   (None, 20)                0         \n",
            "                                                                 \n",
            " dense_27 (Dense)            (None, 10)                210       \n",
            "                                                                 \n",
            " dropout_15 (Dropout)        (None, 10)                0         \n",
            "                                                                 \n",
            " dense_28 (Dense)            (None, 5)                 55        \n",
            "                                                                 \n",
            " dropout_16 (Dropout)        (None, 5)                 0         \n",
            "                                                                 \n",
            " dense_29 (Dense)            (None, 1)                 6         \n",
            "                                                                 \n",
            "=================================================================\n",
            "Total params: 4,267\n",
            "Trainable params: 4,267\n",
            "Non-trainable params: 0\n",
            "_________________________________________________________________\n"
          ]
        }
      ]
    },
    {
      "cell_type": "code",
      "source": [
        "batch_size = x_train.shape[0]\n",
        "n_epochs = 100\n",
        "\n",
        "# train\n",
        "history = model.fit(x_train, y_train, epochs=n_epochs, batch_size=batch_size, verbose = 2,\n",
        "                validation_data=(x_test, y_test),)\n",
        "                # callbacks = [\n",
        "                # EarlyStopping(monitor='val_loss', patience=10, verbose=1),\n",
        "                # ReduceLROnPlateau(monitor='val_loss', factor=0.1, patience=2, verbose=1),\n",
        "                # TerminateOnNaN()])\n"
      ],
      "metadata": {
        "colab": {
          "base_uri": "https://localhost:8080/"
        },
        "id": "gyAicqbIdaB0",
        "outputId": "a61a3376-4142-4d5c-deae-6acc0612c1c8"
      },
      "execution_count": 45,
      "outputs": [
        {
          "output_type": "stream",
          "name": "stdout",
          "text": [
            "Epoch 1/100\n",
            "1/1 - 2s - loss: 0.6989 - val_loss: 0.6999 - 2s/epoch - 2s/step\n",
            "Epoch 2/100\n",
            "1/1 - 0s - loss: 0.6945 - val_loss: 0.6982 - 41ms/epoch - 41ms/step\n",
            "Epoch 3/100\n",
            "1/1 - 0s - loss: 0.7006 - val_loss: 0.6962 - 55ms/epoch - 55ms/step\n",
            "Epoch 4/100\n",
            "1/1 - 0s - loss: 0.6928 - val_loss: 0.6936 - 59ms/epoch - 59ms/step\n",
            "Epoch 5/100\n",
            "1/1 - 0s - loss: 0.6893 - val_loss: 0.6915 - 67ms/epoch - 67ms/step\n",
            "Epoch 6/100\n",
            "1/1 - 0s - loss: 0.6926 - val_loss: 0.6898 - 61ms/epoch - 61ms/step\n",
            "Epoch 7/100\n",
            "1/1 - 0s - loss: 0.6881 - val_loss: 0.6880 - 84ms/epoch - 84ms/step\n",
            "Epoch 8/100\n",
            "1/1 - 0s - loss: 0.6993 - val_loss: 0.6863 - 69ms/epoch - 69ms/step\n",
            "Epoch 9/100\n",
            "1/1 - 0s - loss: 0.6777 - val_loss: 0.6846 - 54ms/epoch - 54ms/step\n",
            "Epoch 10/100\n",
            "1/1 - 0s - loss: 0.6955 - val_loss: 0.6820 - 58ms/epoch - 58ms/step\n",
            "Epoch 11/100\n",
            "1/1 - 0s - loss: 0.6781 - val_loss: 0.6796 - 57ms/epoch - 57ms/step\n",
            "Epoch 12/100\n",
            "1/1 - 0s - loss: 0.6881 - val_loss: 0.6777 - 54ms/epoch - 54ms/step\n",
            "Epoch 13/100\n",
            "1/1 - 0s - loss: 0.6769 - val_loss: 0.6760 - 87ms/epoch - 87ms/step\n",
            "Epoch 14/100\n",
            "1/1 - 0s - loss: 0.6911 - val_loss: 0.6749 - 67ms/epoch - 67ms/step\n",
            "Epoch 15/100\n",
            "1/1 - 0s - loss: 0.6772 - val_loss: 0.6738 - 85ms/epoch - 85ms/step\n",
            "Epoch 16/100\n",
            "1/1 - 0s - loss: 0.6877 - val_loss: 0.6726 - 85ms/epoch - 85ms/step\n",
            "Epoch 17/100\n",
            "1/1 - 0s - loss: 0.6894 - val_loss: 0.6714 - 69ms/epoch - 69ms/step\n",
            "Epoch 18/100\n",
            "1/1 - 0s - loss: 0.6803 - val_loss: 0.6704 - 62ms/epoch - 62ms/step\n",
            "Epoch 19/100\n",
            "1/1 - 0s - loss: 0.6741 - val_loss: 0.6693 - 62ms/epoch - 62ms/step\n",
            "Epoch 20/100\n",
            "1/1 - 0s - loss: 0.6898 - val_loss: 0.6685 - 84ms/epoch - 84ms/step\n",
            "Epoch 21/100\n",
            "1/1 - 0s - loss: 0.6782 - val_loss: 0.6678 - 84ms/epoch - 84ms/step\n",
            "Epoch 22/100\n",
            "1/1 - 0s - loss: 0.6907 - val_loss: 0.6673 - 87ms/epoch - 87ms/step\n",
            "Epoch 23/100\n",
            "1/1 - 0s - loss: 0.6815 - val_loss: 0.6669 - 76ms/epoch - 76ms/step\n",
            "Epoch 24/100\n",
            "1/1 - 0s - loss: 0.6757 - val_loss: 0.6665 - 86ms/epoch - 86ms/step\n",
            "Epoch 25/100\n",
            "1/1 - 0s - loss: 0.6684 - val_loss: 0.6663 - 109ms/epoch - 109ms/step\n",
            "Epoch 26/100\n",
            "1/1 - 0s - loss: 0.6836 - val_loss: 0.6660 - 85ms/epoch - 85ms/step\n",
            "Epoch 27/100\n",
            "1/1 - 0s - loss: 0.6944 - val_loss: 0.6661 - 113ms/epoch - 113ms/step\n",
            "Epoch 28/100\n",
            "1/1 - 0s - loss: 0.6527 - val_loss: 0.6664 - 87ms/epoch - 87ms/step\n",
            "Epoch 29/100\n",
            "1/1 - 0s - loss: 0.6778 - val_loss: 0.6666 - 110ms/epoch - 110ms/step\n",
            "Epoch 30/100\n",
            "1/1 - 0s - loss: 0.6589 - val_loss: 0.6667 - 73ms/epoch - 73ms/step\n",
            "Epoch 31/100\n",
            "1/1 - 0s - loss: 0.6710 - val_loss: 0.6670 - 89ms/epoch - 89ms/step\n",
            "Epoch 32/100\n",
            "1/1 - 0s - loss: 0.6472 - val_loss: 0.6675 - 120ms/epoch - 120ms/step\n",
            "Epoch 33/100\n",
            "1/1 - 0s - loss: 0.6553 - val_loss: 0.6680 - 117ms/epoch - 117ms/step\n",
            "Epoch 34/100\n",
            "1/1 - 0s - loss: 0.6658 - val_loss: 0.6689 - 94ms/epoch - 94ms/step\n",
            "Epoch 35/100\n",
            "1/1 - 0s - loss: 0.6632 - val_loss: 0.6700 - 78ms/epoch - 78ms/step\n",
            "Epoch 36/100\n",
            "1/1 - 0s - loss: 0.6766 - val_loss: 0.6703 - 76ms/epoch - 76ms/step\n",
            "Epoch 37/100\n",
            "1/1 - 0s - loss: 0.6590 - val_loss: 0.6708 - 71ms/epoch - 71ms/step\n",
            "Epoch 38/100\n",
            "1/1 - 0s - loss: 0.6472 - val_loss: 0.6708 - 64ms/epoch - 64ms/step\n",
            "Epoch 39/100\n",
            "1/1 - 0s - loss: 0.6407 - val_loss: 0.6715 - 80ms/epoch - 80ms/step\n",
            "Epoch 40/100\n",
            "1/1 - 0s - loss: 0.6568 - val_loss: 0.6712 - 101ms/epoch - 101ms/step\n",
            "Epoch 41/100\n",
            "1/1 - 0s - loss: 0.6496 - val_loss: 0.6705 - 62ms/epoch - 62ms/step\n",
            "Epoch 42/100\n",
            "1/1 - 0s - loss: 0.6477 - val_loss: 0.6689 - 83ms/epoch - 83ms/step\n",
            "Epoch 43/100\n",
            "1/1 - 0s - loss: 0.6408 - val_loss: 0.6670 - 72ms/epoch - 72ms/step\n",
            "Epoch 44/100\n",
            "1/1 - 0s - loss: 0.6783 - val_loss: 0.6644 - 104ms/epoch - 104ms/step\n",
            "Epoch 45/100\n",
            "1/1 - 0s - loss: 0.6193 - val_loss: 0.6614 - 68ms/epoch - 68ms/step\n",
            "Epoch 46/100\n",
            "1/1 - 0s - loss: 0.6450 - val_loss: 0.6573 - 92ms/epoch - 92ms/step\n",
            "Epoch 47/100\n",
            "1/1 - 0s - loss: 0.6543 - val_loss: 0.6538 - 101ms/epoch - 101ms/step\n",
            "Epoch 48/100\n",
            "1/1 - 0s - loss: 0.6379 - val_loss: 0.6501 - 62ms/epoch - 62ms/step\n",
            "Epoch 49/100\n",
            "1/1 - 0s - loss: 0.6571 - val_loss: 0.6468 - 73ms/epoch - 73ms/step\n",
            "Epoch 50/100\n",
            "1/1 - 0s - loss: 0.6532 - val_loss: 0.6436 - 73ms/epoch - 73ms/step\n",
            "Epoch 51/100\n",
            "1/1 - 0s - loss: 0.6395 - val_loss: 0.6411 - 77ms/epoch - 77ms/step\n",
            "Epoch 52/100\n",
            "1/1 - 0s - loss: 0.6505 - val_loss: 0.6393 - 74ms/epoch - 74ms/step\n",
            "Epoch 53/100\n",
            "1/1 - 0s - loss: 0.6160 - val_loss: 0.6379 - 79ms/epoch - 79ms/step\n",
            "Epoch 54/100\n",
            "1/1 - 0s - loss: 0.6245 - val_loss: 0.6367 - 73ms/epoch - 73ms/step\n",
            "Epoch 55/100\n",
            "1/1 - 0s - loss: 0.5975 - val_loss: 0.6362 - 88ms/epoch - 88ms/step\n",
            "Epoch 56/100\n",
            "1/1 - 0s - loss: 0.6155 - val_loss: 0.6355 - 102ms/epoch - 102ms/step\n",
            "Epoch 57/100\n",
            "1/1 - 0s - loss: 0.6118 - val_loss: 0.6357 - 96ms/epoch - 96ms/step\n",
            "Epoch 58/100\n",
            "1/1 - 0s - loss: 0.6526 - val_loss: 0.6365 - 55ms/epoch - 55ms/step\n",
            "Epoch 59/100\n",
            "1/1 - 0s - loss: 0.6451 - val_loss: 0.6369 - 104ms/epoch - 104ms/step\n",
            "Epoch 60/100\n",
            "1/1 - 0s - loss: 0.6290 - val_loss: 0.6376 - 86ms/epoch - 86ms/step\n",
            "Epoch 61/100\n",
            "1/1 - 0s - loss: 0.6270 - val_loss: 0.6371 - 116ms/epoch - 116ms/step\n",
            "Epoch 62/100\n",
            "1/1 - 0s - loss: 0.5961 - val_loss: 0.6364 - 83ms/epoch - 83ms/step\n",
            "Epoch 63/100\n",
            "1/1 - 0s - loss: 0.6139 - val_loss: 0.6351 - 95ms/epoch - 95ms/step\n",
            "Epoch 64/100\n",
            "1/1 - 0s - loss: 0.6204 - val_loss: 0.6345 - 98ms/epoch - 98ms/step\n",
            "Epoch 65/100\n",
            "1/1 - 0s - loss: 0.5662 - val_loss: 0.6336 - 111ms/epoch - 111ms/step\n",
            "Epoch 66/100\n",
            "1/1 - 0s - loss: 0.6023 - val_loss: 0.6329 - 73ms/epoch - 73ms/step\n",
            "Epoch 67/100\n",
            "1/1 - 0s - loss: 0.5763 - val_loss: 0.6324 - 78ms/epoch - 78ms/step\n",
            "Epoch 68/100\n",
            "1/1 - 0s - loss: 0.5842 - val_loss: 0.6319 - 86ms/epoch - 86ms/step\n",
            "Epoch 69/100\n",
            "1/1 - 0s - loss: 0.6129 - val_loss: 0.6298 - 78ms/epoch - 78ms/step\n",
            "Epoch 70/100\n",
            "1/1 - 0s - loss: 0.6071 - val_loss: 0.6292 - 87ms/epoch - 87ms/step\n",
            "Epoch 71/100\n",
            "1/1 - 0s - loss: 0.5860 - val_loss: 0.6282 - 78ms/epoch - 78ms/step\n",
            "Epoch 72/100\n",
            "1/1 - 0s - loss: 0.6243 - val_loss: 0.6279 - 84ms/epoch - 84ms/step\n",
            "Epoch 73/100\n",
            "1/1 - 0s - loss: 0.6065 - val_loss: 0.6276 - 72ms/epoch - 72ms/step\n",
            "Epoch 74/100\n",
            "1/1 - 0s - loss: 0.5989 - val_loss: 0.6263 - 78ms/epoch - 78ms/step\n",
            "Epoch 75/100\n",
            "1/1 - 0s - loss: 0.6019 - val_loss: 0.6247 - 90ms/epoch - 90ms/step\n",
            "Epoch 76/100\n",
            "1/1 - 0s - loss: 0.5928 - val_loss: 0.6224 - 61ms/epoch - 61ms/step\n",
            "Epoch 77/100\n",
            "1/1 - 0s - loss: 0.6234 - val_loss: 0.6223 - 78ms/epoch - 78ms/step\n",
            "Epoch 78/100\n",
            "1/1 - 0s - loss: 0.6267 - val_loss: 0.6235 - 54ms/epoch - 54ms/step\n",
            "Epoch 79/100\n",
            "1/1 - 0s - loss: 0.5564 - val_loss: 0.6219 - 62ms/epoch - 62ms/step\n",
            "Epoch 80/100\n",
            "1/1 - 0s - loss: 0.5616 - val_loss: 0.6195 - 82ms/epoch - 82ms/step\n",
            "Epoch 81/100\n",
            "1/1 - 0s - loss: 0.5015 - val_loss: 0.6179 - 65ms/epoch - 65ms/step\n",
            "Epoch 82/100\n",
            "1/1 - 0s - loss: 0.5885 - val_loss: 0.6150 - 76ms/epoch - 76ms/step\n",
            "Epoch 83/100\n",
            "1/1 - 0s - loss: 0.5423 - val_loss: 0.6097 - 72ms/epoch - 72ms/step\n",
            "Epoch 84/100\n",
            "1/1 - 0s - loss: 0.5679 - val_loss: 0.6055 - 87ms/epoch - 87ms/step\n",
            "Epoch 85/100\n",
            "1/1 - 0s - loss: 0.5865 - val_loss: 0.5990 - 85ms/epoch - 85ms/step\n",
            "Epoch 86/100\n",
            "1/1 - 0s - loss: 0.5711 - val_loss: 0.5944 - 65ms/epoch - 65ms/step\n",
            "Epoch 87/100\n",
            "1/1 - 0s - loss: 0.5859 - val_loss: 0.5927 - 73ms/epoch - 73ms/step\n",
            "Epoch 88/100\n",
            "1/1 - 0s - loss: 0.5682 - val_loss: 0.5905 - 76ms/epoch - 76ms/step\n",
            "Epoch 89/100\n",
            "1/1 - 0s - loss: 0.5548 - val_loss: 0.5892 - 64ms/epoch - 64ms/step\n",
            "Epoch 90/100\n",
            "1/1 - 0s - loss: 0.5356 - val_loss: 0.5888 - 74ms/epoch - 74ms/step\n",
            "Epoch 91/100\n",
            "1/1 - 0s - loss: 0.5243 - val_loss: 0.5895 - 54ms/epoch - 54ms/step\n",
            "Epoch 92/100\n",
            "1/1 - 0s - loss: 0.4242 - val_loss: 0.5908 - 56ms/epoch - 56ms/step\n",
            "Epoch 93/100\n",
            "1/1 - 0s - loss: 0.5470 - val_loss: 0.5941 - 75ms/epoch - 75ms/step\n",
            "Epoch 94/100\n",
            "1/1 - 0s - loss: 0.5108 - val_loss: 0.5954 - 59ms/epoch - 59ms/step\n",
            "Epoch 95/100\n",
            "1/1 - 0s - loss: 0.5322 - val_loss: 0.5961 - 77ms/epoch - 77ms/step\n",
            "Epoch 96/100\n",
            "1/1 - 0s - loss: 0.4626 - val_loss: 0.5943 - 74ms/epoch - 74ms/step\n",
            "Epoch 97/100\n",
            "1/1 - 0s - loss: 0.4885 - val_loss: 0.5924 - 55ms/epoch - 55ms/step\n",
            "Epoch 98/100\n",
            "1/1 - 0s - loss: 0.5500 - val_loss: 0.5911 - 40ms/epoch - 40ms/step\n",
            "Epoch 99/100\n",
            "1/1 - 0s - loss: 0.5437 - val_loss: 0.5907 - 55ms/epoch - 55ms/step\n",
            "Epoch 100/100\n",
            "1/1 - 0s - loss: 0.5187 - val_loss: 0.5904 - 41ms/epoch - 41ms/step\n"
          ]
        }
      ]
    },
    {
      "cell_type": "code",
      "source": [
        "# PLOTTING HISTORY\n",
        "\n",
        "# plot training history\n",
        "plt.plot(history.history['loss'])\n",
        "plt.plot(history.history['val_loss'])\n",
        "# plt.yscale('log')\n",
        "plt.title('Training History')\n",
        "plt.ylabel('loss')\n",
        "plt.xlabel('epoch')\n",
        "plt.legend(['training', 'test'], loc='upper right')\n",
        "plt.show()\n",
        "\n"
      ],
      "metadata": {
        "colab": {
          "base_uri": "https://localhost:8080/",
          "height": 480
        },
        "id": "Dk1i2gfMdaKX",
        "outputId": "fac3de9d-6a64-4e1d-c506-31adba7c9522"
      },
      "execution_count": 46,
      "outputs": [
        {
          "output_type": "display_data",
          "data": {
            "text/plain": [
              "<Figure size 640x480 with 1 Axes>"
            ],
            "image/png": "[encoded data removed]"
          },
          "metadata": {}
        }
      ]
    },
    {
      "cell_type": "code",
      "source": [
        "predict_train = model.predict(x_train)\n",
        "\n",
        "fpr1, tpr1, threshold = roc_curve(y_train, predict_train)\n",
        "print(threshold)\n",
        "\n",
        "predict_test = model.predict(x_test)\n",
        "\n",
        "fpr2, tpr2, threshold = roc_curve(y_test, predict_test)\n",
        "print(threshold)\n",
        "auc_ =  auc(fpr1, tpr1)\n",
        "plt.plot(fpr1,tpr1,label=f'train: {auc_}')\n",
        "auc_ =  auc(fpr2, tpr2)\n",
        "plt.plot(fpr2,tpr2,label=f'test: {auc_}')\n",
        "plt.ylabel('TPR')\n",
        "plt.xlabel('FPR')\n",
        "plt.legend()"
      ],
      "metadata": {
        "colab": {
          "base_uri": "https://localhost:8080/",
          "height": 603
        },
        "id": "7Tkn9vsSekqj",
        "outputId": "43d30ee0-b649-4ce3-bdbc-04e31f765ce9"
      },
      "execution_count": 47,
      "outputs": [
        {
          "output_type": "stream",
          "name": "stderr",
          "text": [
            "WARNING:tensorflow:5 out of the last 13 calls to <function Model.make_predict_function.<locals>.predict_function at 0x7ff66daf8670> triggered tf.function retracing. Tracing is expensive and the excessive number of tracings could be due to (1) creating @tf.function repeatedly in a loop, (2) passing tensors with different shapes, (3) passing Python objects instead of tensors. For (1), please define your @tf.function outside of the loop. For (2), @tf.function has reduce_retracing=True option that can avoid unnecessary retracing. For (3), please refer to https://www.tensorflow.org/guide/function#controlling_retracing and https://www.tensorflow.org/api_docs/python/tf/function for  more details.\n"
          ]
        },
        {
          "output_type": "stream",
          "name": "stdout",
          "text": [
            "2/2 [==============================] - 0s 10ms/step\n",
            "[1.772314   0.77231395 0.5448677  0.50496376 0.4931655  0.27226987]\n",
            "1/1 [==============================] - 0s 28ms/step\n",
            "[1.7651145  0.7651146  0.6091311  0.5948358  0.5870453  0.58234096\n",
            " 0.41971964 0.41378152]\n"
          ]
        },
        {
          "output_type": "execute_result",
          "data": {
            "text/plain": [
              "<matplotlib.legend.Legend at 0x7ff66d968c10>"
            ]
          },
          "metadata": {},
          "execution_count": 47
        },
        {
          "output_type": "display_data",
          "data": {
            "text/plain": [
              "<Figure size 640x480 with 1 Axes>"
            ],
            "image/png": "[encoded data removed]"
          },
          "metadata": {}
        }
      ]
    },
    {
      "cell_type": "code",
      "source": [
        "for i in zip(y_train[:20], predict_train[:20]):\n",
        "  print(i)"
      ],
      "metadata": {
        "colab": {
          "base_uri": "https://localhost:8080/"
        },
        "id": "cP3g5ZGdifQR",
        "outputId": "01afda6c-e2fb-4cc1-c5cf-881f9dc66186"
      },
      "execution_count": 48,
      "outputs": [
        {
          "output_type": "stream",
          "name": "stdout",
          "text": [
            "(1, array([0.6615465], dtype=float32))\n",
            "(1, array([0.6371631], dtype=float32))\n",
            "(1, array([0.679512], dtype=float32))\n",
            "(1, array([0.6061714], dtype=float32))\n",
            "(0, array([0.32105798], dtype=float32))\n",
            "(1, array([0.5448677], dtype=float32))\n",
            "(0, array([0.4285158], dtype=float32))\n",
            "(1, array([0.6889603], dtype=float32))\n",
            "(1, array([0.7520683], dtype=float32))\n",
            "(1, array([0.4931655], dtype=float32))\n",
            "(0, array([0.3827186], dtype=float32))\n",
            "(1, array([0.720867], dtype=float32))\n",
            "(0, array([0.27226987], dtype=float32))\n",
            "(1, array([0.6132145], dtype=float32))\n",
            "(1, array([0.6860868], dtype=float32))\n",
            "(1, array([0.65777147], dtype=float32))\n",
            "(1, array([0.6921165], dtype=float32))\n",
            "(0, array([0.31229702], dtype=float32))\n",
            "(0, array([0.50496376], dtype=float32))\n",
            "(0, array([0.3358692], dtype=float32))\n"
          ]
        }
      ]
    },
    {
      "cell_type": "code",
      "source": [
        "accuracy_score(y_train, np.around(predict_train))"
      ],
      "metadata": {
        "colab": {
          "base_uri": "https://localhost:8080/"
        },
        "id": "KhUH-ecygCwi",
        "outputId": "405cdabd-064a-4253-8de4-7f840b2f950f"
      },
      "execution_count": 49,
      "outputs": [
        {
          "output_type": "execute_result",
          "data": {
            "text/plain": [
              "0.9375"
            ]
          },
          "metadata": {},
          "execution_count": 49
        }
      ]
    },
    {
      "cell_type": "code",
      "source": [
        "accuracy_score(y_test, np.around(predict_test))"
      ],
      "metadata": {
        "colab": {
          "base_uri": "https://localhost:8080/"
        },
        "id": "CEZz7beVfpTQ",
        "outputId": "fe748870-c679-4396-ca9b-1f73e28199ea"
      },
      "execution_count": 50,
      "outputs": [
        {
          "output_type": "execute_result",
          "data": {
            "text/plain": [
              "0.8095238095238095"
            ]
          },
          "metadata": {},
          "execution_count": 50
        }
      ]
    },
    {
      "cell_type": "markdown",
      "metadata": {
        "id": "x-lZwMRdcv91"
      },
      "source": []
    },
    {
      "cell_type": "markdown",
      "metadata": {
        "id": "zxKK5KPBcv91"
      },
      "source": []
    }
  ],
  "metadata": {
    "kernelspec": {
      "display_name": "py38",
      "language": "python",
      "name": "python3"
    },
    "language_info": {
      "codemirror_mode": {
        "name": "ipython",
        "version": 3
      },
      "file_extension": ".py",
      "mimetype": "text/x-python",
      "name": "python",
      "nbconvert_exporter": "python",
      "pygments_lexer": "ipython3",
      "version": "3.8.12"
    },
    "orig_nbformat": 4,
    "colab": {
      "provenance": [],
      "include_colab_link": true
    }
  },
  "nbformat": 4,
  "nbformat_minor": 0
}